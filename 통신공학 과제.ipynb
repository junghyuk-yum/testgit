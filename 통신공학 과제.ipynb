{
 "cells": [
  {
   "cell_type": "code",
   "execution_count": 61,
   "metadata": {},
   "outputs": [],
   "source": [
    "#1-9번\n",
    "import turtle\n",
    "t= turtle.Turtle()\n",
    "t.shape(\"turtle\")\n",
    "t.up()\n",
    "t.goto(-200,100)\n",
    "t.down()"
   ]
  },
  {
   "cell_type": "code",
   "execution_count": 62,
   "metadata": {},
   "outputs": [],
   "source": [
    "t.circle(100)\n",
    "t.up()\n",
    "t.goto(-50,100)\n",
    "t.down()\n",
    "t.circle(100)\n",
    "t.up()\n",
    "t.goto(100,100)\n",
    "t.down()\n",
    "t.circle(100)"
   ]
  },
  {
   "cell_type": "code",
   "execution_count": 63,
   "metadata": {},
   "outputs": [],
   "source": [
    "t.up()\n",
    "t.goto(-125,-50)\n",
    "t.down()\n",
    "t.circle(100)\n",
    "t.up()\n",
    "t.goto(25,-50)\n",
    "t.down()\n",
    "t.circle(100)"
   ]
  },
  {
   "cell_type": "code",
   "execution_count": 64,
   "metadata": {},
   "outputs": [],
   "source": [
    "turtle.bye()"
   ]
  },
  {
   "cell_type": "code",
   "execution_count": 66,
   "metadata": {},
   "outputs": [],
   "source": [
    "#2-7번\n",
    "import turtle\n",
    "t= turtle.Turtle()\n",
    "t.shape(\"turtle\")"
   ]
  },
  {
   "cell_type": "code",
   "execution_count": 67,
   "metadata": {},
   "outputs": [],
   "source": [
    "side=4\n",
    "angle=90\n",
    "length=100\n",
    "x=1"
   ]
  },
  {
   "cell_type": "code",
   "execution_count": 68,
   "metadata": {},
   "outputs": [],
   "source": [
    "for count in range(4):\n",
    "    for x in range(side):\n",
    "        t.left(angle)\n",
    "        t.forward(length)\n",
    "        x+1\n",
    "    t.right(angle)\n",
    "    count+1"
   ]
  },
  {
   "cell_type": "code",
   "execution_count": 69,
   "metadata": {},
   "outputs": [],
   "source": [
    "turtle.bye()"
   ]
  },
  {
   "cell_type": "code",
   "execution_count": 70,
   "metadata": {},
   "outputs": [],
   "source": [
    "#3-7번\n",
    "import time\n",
    "now=time.time()"
   ]
  },
  {
   "cell_type": "code",
   "execution_count": 71,
   "metadata": {},
   "outputs": [
    {
     "name": "stdout",
     "output_type": "stream",
     "text": [
      "15 7\n"
     ]
    }
   ],
   "source": [
    "now_hour=(now//3600)%24\n",
    "now_min=(now//60)%60\n",
    "print(\"%s %s\"%(int(now_hour)+9,int(now_min)))"
   ]
  },
  {
   "cell_type": "code",
   "execution_count": 74,
   "metadata": {
    "scrolled": true
   },
   "outputs": [],
   "source": [
    "#4-7번\n",
    "import turtle\n",
    "t= turtle.Turtle()\n",
    "t.up()\n",
    "t.goto(-200,100)\n",
    "t.down()"
   ]
  },
  {
   "cell_type": "code",
   "execution_count": 75,
   "metadata": {},
   "outputs": [
    {
     "name": "stdout",
     "output_type": "stream",
     "text": [
      "color1?yellow\n"
     ]
    }
   ],
   "source": [
    "colors=[0,0,0]\n",
    "color1=input(\"color1?\")\n",
    "colors[0]=color1"
   ]
  },
  {
   "cell_type": "code",
   "execution_count": 76,
   "metadata": {},
   "outputs": [],
   "source": [
    "t.fillcolor(colors[0])\n",
    "t.begin_fill()\n",
    "t.circle(50)\n",
    "t.end_fill()\n",
    "t.up()\n",
    "t.forward(100)\n",
    "t.down()"
   ]
  },
  {
   "cell_type": "code",
   "execution_count": 77,
   "metadata": {},
   "outputs": [
    {
     "name": "stdout",
     "output_type": "stream",
     "text": [
      "color2?red\n"
     ]
    }
   ],
   "source": [
    "color2=input(\"color2?\")\n",
    "colors[1]=color2"
   ]
  },
  {
   "cell_type": "code",
   "execution_count": 78,
   "metadata": {},
   "outputs": [],
   "source": [
    "t.fillcolor(colors[1])\n",
    "t.begin_fill()\n",
    "t.circle(50)\n",
    "t.end_fill()\n",
    "t.up()\n",
    "t.forward(100)\n",
    "t.down()"
   ]
  },
  {
   "cell_type": "code",
   "execution_count": 79,
   "metadata": {},
   "outputs": [
    {
     "name": "stdout",
     "output_type": "stream",
     "text": [
      "color3?blue\n"
     ]
    }
   ],
   "source": [
    "color3=input(\"color3?\")\n",
    "colors[2]=color3"
   ]
  },
  {
   "cell_type": "code",
   "execution_count": 80,
   "metadata": {},
   "outputs": [],
   "source": [
    "t.fillcolor(colors[2])\n",
    "t.begin_fill()\n",
    "t.circle(50)\n",
    "t.end_fill()\n",
    "t.up()\n",
    "t.forward(100)\n",
    "t.down()"
   ]
  },
  {
   "cell_type": "code",
   "execution_count": 81,
   "metadata": {},
   "outputs": [],
   "source": [
    "turtle.bye()"
   ]
  },
  {
   "cell_type": "code",
   "execution_count": 82,
   "metadata": {},
   "outputs": [
    {
     "name": "stdout",
     "output_type": "stream",
     "text": [
      "복권번호를 입력하시요(0에서 99사이):24\n"
     ]
    }
   ],
   "source": [
    "#5-7번\n",
    "user_num=int(input(\"복권번호를 입력하시요(0에서 99사이):\"))\n",
    "un1=user_num//10\n",
    "un2=user_num%10"
   ]
  },
  {
   "cell_type": "code",
   "execution_count": 148,
   "metadata": {},
   "outputs": [
    {
     "name": "stdout",
     "output_type": "stream",
     "text": [
      "24\n"
     ]
    }
   ],
   "source": [
    ">>> import random\n",
    "rand_num=random.randrange(0,99)\n",
    "print(rand_num)\n",
    "rn1=rand_num//10\n",
    "rn2=rand_num%10"
   ]
  },
  {
   "cell_type": "code",
   "execution_count": 149,
   "metadata": {},
   "outputs": [
    {
     "name": "stdout",
     "output_type": "stream",
     "text": [
      "상금은 100만원입니다.\n"
     ]
    }
   ],
   "source": [
    "if(rn1==un1 or rn2==un1):\n",
    "    if(rn1==un2 or rn2==un2):\n",
    "        print(\"상금은 100만원입니다.\")\n",
    "    else :\n",
    "        print(\"상금은 50만원입니다.\")\n",
    "elif(rn1==un2 or rn2==un2):\n",
    "    if(rn1==un1 or rn2==un1):\n",
    "        print(\"상금은 100만원입니다.\")\n",
    "    else :\n",
    "        print(\"상금은 50만원입니다.\")\n",
    "else :\n",
    "    print(\"상금은 0원입니다.\")"
   ]
  },
  {
   "cell_type": "code",
   "execution_count": null,
   "metadata": {},
   "outputs": [],
   "source": []
  }
 ],
 "metadata": {
  "kernelspec": {
   "display_name": "Python 3",
   "language": "python",
   "name": "python3"
  },
  "language_info": {
   "codemirror_mode": {
    "name": "ipython",
    "version": 3
   },
   "file_extension": ".py",
   "mimetype": "text/x-python",
   "name": "python",
   "nbconvert_exporter": "python",
   "pygments_lexer": "ipython3",
   "version": "3.7.6"
  }
 },
 "nbformat": 4,
 "nbformat_minor": 4
}
