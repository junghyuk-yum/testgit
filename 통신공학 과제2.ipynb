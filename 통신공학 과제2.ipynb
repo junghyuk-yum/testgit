{
 "cells": [
  {
   "cell_type": "code",
   "execution_count": 1,
   "metadata": {},
   "outputs": [],
   "source": [
    "#Ch6 7번\n",
    "import turtle\n",
    "t=turtle.Turtle()\n",
    "t.shape(\"turtle\")\n",
    "t.color(\"skyblue\")\n",
    "t.left(90)\n",
    "t.speed(1)"
   ]
  },
  {
   "cell_type": "code",
   "execution_count": 2,
   "metadata": {},
   "outputs": [],
   "source": [
    "for count in range(6):\n",
    "    t.forward(100)\n",
    "    t.forward(-30)\n",
    "    t.left(60)\n",
    "    t.forward(30)\n",
    "    t.forward(-30)\n",
    "    t.right(120)\n",
    "    t.forward(30)\n",
    "    t.forward(-30)\n",
    "    t.left(60)\n",
    "    t.backward(70)\n",
    "    t.right(60)\n",
    "    count+1"
   ]
  },
  {
   "cell_type": "code",
   "execution_count": 3,
   "metadata": {},
   "outputs": [],
   "source": [
    "turtle.bye()"
   ]
  },
  {
   "cell_type": "code",
   "execution_count": 6,
   "metadata": {},
   "outputs": [
    {
     "name": "stdout",
     "output_type": "stream",
     "text": [
      "반지름이 5인 원의 면적: 78.539816\n",
      "반지름이 5인 원의 둘레: 31.415927\n"
     ]
    }
   ],
   "source": [
    "#Ch7 7번\n",
    "import math\n",
    "PI=math.pi\n",
    "\n",
    "def circleArea(radius):\n",
    "    area=PI*radius**2\n",
    "    return area\n",
    "def circleCircumference(radius):\n",
    "    circumference=PI*radius*2\n",
    "    return circumference\n",
    "\n",
    "r=5\n",
    "c_면적 = circleArea(r)\n",
    "c_둘레 = circleCircumference(r)\n",
    "\n",
    "print(\"반지름이 %d인 원의 면적: %f\" %(r,c_면적))\n",
    "print(\"반지름이 %d인 원의 둘레: %f\" %(r,c_둘레))"
   ]
  },
  {
   "cell_type": "code",
   "execution_count": null,
   "metadata": {},
   "outputs": [],
   "source": [
    "#Ch9 2번"
   ]
  },
  {
   "cell_type": "code",
   "execution_count": 1855,
   "metadata": {},
   "outputs": [],
   "source": [
    "import random\n",
    "counters=[0,0,0,0,0,0]\n",
    "num=1"
   ]
  },
  {
   "cell_type": "code",
   "execution_count": 2009,
   "metadata": {},
   "outputs": [
    {
     "name": "stdout",
     "output_type": "stream",
     "text": [
      "3\n"
     ]
    }
   ],
   "source": [
    "value=random.randrange(1,7)\n",
    "print(value)\n",
    "counters[value-1]=counters[value-1]+1"
   ]
  },
  {
   "cell_type": "code",
   "execution_count": 2010,
   "metadata": {},
   "outputs": [
    {
     "name": "stdout",
     "output_type": "stream",
     "text": [
      "주사위가 1인 경우는 26\n",
      "주사위가 2인 경우는 31\n",
      "주사위가 3인 경우는 18\n",
      "주사위가 4인 경우는 25\n",
      "주사위가 5인 경우는 25\n",
      "주사위가 6인 경우는 29\n"
     ]
    }
   ],
   "source": [
    "for i in counters:\n",
    "    print(\"주사위가 %d인 경우는 %d\"%(num,i))\n",
    "    num+=1"
   ]
  },
  {
   "cell_type": "code",
   "execution_count": 2022,
   "metadata": {},
   "outputs": [],
   "source": [
    "#Ch9 7번\n",
    "countries= {\"kr\": \"대한민국\"}\n",
    "countries[\"sk\"]= \"슬로바키아\"\n",
    "countries[\"no\"]= \"노르웨이\"\n",
    "countries[\"us\"]= \"미국\"\n",
    "countries[\"jp\"]= \"일본\"\n",
    "countries[\"hu\"]= \"헝가리\"\n",
    "countries[\"ge\"]= \"독일\""
   ]
  },
  {
   "cell_type": "code",
   "execution_count": 2026,
   "metadata": {},
   "outputs": [
    {
     "name": "stdout",
     "output_type": "stream",
     "text": [
      "kr  :  대한민국\n",
      "sk  :  슬로바키아\n",
      "no  :  노르웨이\n",
      "us  :  미국\n",
      "jp  :  일본\n",
      "hu  :  헝가리\n",
      "ge  :  독일\n"
     ]
    }
   ],
   "source": [
    "for k,v in countries.items():\n",
    "    print(k,\" : \",v)"
   ]
  }
 ],
 "metadata": {
  "kernelspec": {
   "display_name": "Python 3",
   "language": "python",
   "name": "python3"
  },
  "language_info": {
   "codemirror_mode": {
    "name": "ipython",
    "version": 3
   },
   "file_extension": ".py",
   "mimetype": "text/x-python",
   "name": "python",
   "nbconvert_exporter": "python",
   "pygments_lexer": "ipython3",
   "version": "3.7.6"
  }
 },
 "nbformat": 4,
 "nbformat_minor": 4
}
