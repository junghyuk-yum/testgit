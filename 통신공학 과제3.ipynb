{
 "cells": [
  {
   "cell_type": "code",
   "execution_count": 4,
   "metadata": {},
   "outputs": [
    {
     "name": "stdout",
     "output_type": "stream",
     "text": [
      "{'k': 3, 'H': 3, 'u': 7, 'm': 6, 'p': 6, 't': 13, 'y': 5, ' ': 22, 'D': 2, 's': 5, 'a': 11, 'o': 4, 'n': 7, 'w': 1, 'l': 9, ',': 1, '\\n': 4, 'h': 5, 'd': 3, 'g': 5, 'r': 3, 'e': 7, 'f': 1, '.': 2, 'A': 1, 'i': 3, \"'\": 3, 'C': 1}\n"
     ]
    }
   ],
   "source": [
    "#11장 3번\n",
    "infile=open(\"HumptyDumpty.txt\",\"r\")\n",
    "words = infile.read()\n",
    "dic = {}\n",
    "\n",
    "for word in words:\n",
    "    dic[word]=0\n",
    "    \n",
    "for word in words:\n",
    "    dic[word]=dic[word]+1\n",
    "\n",
    "print(dic)\n",
    "infile.close()"
   ]
  },
  {
   "cell_type": "code",
   "execution_count": 274,
   "metadata": {},
   "outputs": [
    {
     "name": "stdout",
     "output_type": "stream",
     "text": [
      "3497.6000000000004\n",
      "53\n"
     ]
    }
   ],
   "source": [
    "#11장 5번\n",
    "infile=open(\"numbers.txt\",\"r\")\n",
    "outfile=open(\"output.txt\",\"w\")\n",
    "lines = infile.read().splitlines()\n",
    "sum=0\n",
    "count=0\n",
    "\n",
    "for line in lines:\n",
    "    sum+=float(line)\n",
    "    count=count+1\n",
    "\n",
    "print(sum)\n",
    "print(count)\n",
    "average=sum%count\n",
    "\n",
    "outfile.write(\"%f \\n\"%sum)\n",
    "outfile.write(\"%f \\n\"%average)\n",
    "\n",
    "infile.close()\n",
    "outfile.close()"
   ]
  },
  {
   "cell_type": "code",
   "execution_count": 297,
   "metadata": {},
   "outputs": [
    {
     "name": "stdout",
     "output_type": "stream",
     "text": [
      "반지름:5 원의 면적:31.415927 원의 둘례:78.539816\n"
     ]
    }
   ],
   "source": [
    "#13장 1번\n",
    "import math\n",
    "pi=math.pi\n",
    "\n",
    "class Circle:\n",
    "    def __init__(self,r) :\n",
    "        self.radius = r\n",
    "    def calcPerimeter(self):\n",
    "        perimeter=2*pi*self.radius\n",
    "        return perimeter\n",
    "    def calcArea(self):\n",
    "        area=pi*self.radius**2\n",
    "        return area\n",
    "cir=Circle(5)\n",
    "cir.radius\n",
    "cir.calcPerimeter()\n",
    "cir.calcArea()\n",
    "print(\"반지름:%d 원의 면적:%f 원의 둘례:%f\"% (cir.radius, cir.calcPerimeter(), cir.calcArea() ) )"
   ]
  },
  {
   "cell_type": "code",
   "execution_count": 8,
   "metadata": {},
   "outputs": [],
   "source": [
    "#13장 4번\n",
    "import turtle\n",
    "\n",
    "class MyTurtle(turtle.Turtle):\n",
    "    def drawSquare(self):\n",
    "        for i in range(4):\n",
    "            self.left(90)\n",
    "            self.forward(100)\n",
    "            \n",
    "my_turtle= MyTurtle()\n",
    "my_turtle.drawSquare()"
   ]
  }
 ],
 "metadata": {
  "kernelspec": {
   "display_name": "Python 3",
   "language": "python",
   "name": "python3"
  },
  "language_info": {
   "codemirror_mode": {
    "name": "ipython",
    "version": 3
   },
   "file_extension": ".py",
   "mimetype": "text/x-python",
   "name": "python",
   "nbconvert_exporter": "python",
   "pygments_lexer": "ipython3",
   "version": "3.7.6"
  }
 },
 "nbformat": 4,
 "nbformat_minor": 4
}
